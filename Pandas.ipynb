{
 "cells": [
  {
   "cell_type": "code",
   "execution_count": 19,
   "id": "35b2e9a1",
   "metadata": {},
   "outputs": [
    {
     "name": "stdout",
     "output_type": "stream",
     "text": [
      "representation in numpy\n",
      " ['a' 'b' 'c']\n",
      "representation in pandas\n",
      "0    a\n",
      "1    b\n",
      "2    c\n",
      "dtype: object\n"
     ]
    }
   ],
   "source": [
    "import pandas as pd\n",
    "import numpy as np\n",
    "list1=['a','b','c']\n",
    "data=np.array(list1)\n",
    "s=pd.Series(data)\n",
    "print(\"representation in numpy\\n\",data)\n",
    "print(\"representation in pandas\")\n",
    "print(s)"
   ]
  },
  {
   "cell_type": "code",
   "execution_count": 22,
   "id": "54421389",
   "metadata": {},
   "outputs": [
    {
     "name": "stdout",
     "output_type": "stream",
     "text": [
      "representation in numpy\n",
      " ['a' 'b' 'c']\n",
      "representation in pandas\n",
      "100    a\n",
      "101    b\n",
      "102    c\n",
      "dtype: object\n"
     ]
    }
   ],
   "source": [
    "import pandas as pd\n",
    "import numpy as np\n",
    "list1=['a','b','c']\n",
    "data=np.array(list1)\n",
    "s=pd.Series(data,index=[100,101,102])\n",
    "print(\"representation in numpy\\n\",data)\n",
    "print(\"representation in pandas\")\n",
    "print(s)"
   ]
  },
  {
   "cell_type": "code",
   "execution_count": 25,
   "id": "b5ebf420",
   "metadata": {},
   "outputs": [
    {
     "name": "stdout",
     "output_type": "stream",
     "text": [
      "a    0\n",
      "b    1\n",
      "dtype: int64\n"
     ]
    }
   ],
   "source": [
    "import pandas as pd\n",
    "data={'a':0,'b':1}\n",
    "s=pd.Series(data)\n",
    "print(s)"
   ]
  },
  {
   "cell_type": "code",
   "execution_count": 1,
   "id": "c921ba6e",
   "metadata": {},
   "outputs": [
    {
     "name": "stdout",
     "output_type": "stream",
     "text": [
      "idex values\n",
      "a    0.0\n",
      "d    NaN\n",
      "b    1.0\n",
      "dtype: float64\n"
     ]
    }
   ],
   "source": [
    "import pandas as pd\n",
    "data={'a':0,'b':1}\n",
    "s=pd.Series(data,index=['a','d','b'])\n",
    "print(\"idex values\")\n",
    "print(s)"
   ]
  },
  {
   "cell_type": "code",
   "execution_count": 2,
   "id": "3b99118a",
   "metadata": {},
   "outputs": [
    {
     "name": "stdout",
     "output_type": "stream",
     "text": [
      "0    5\n",
      "1    5\n",
      "2    5\n",
      "3    5\n",
      "dtype: int64\n"
     ]
    }
   ],
   "source": [
    "import pandas as pd \n",
    "s=pd.Series(5,index=[0,1,2,3])\n",
    "print(s)"
   ]
  },
  {
   "cell_type": "code",
   "execution_count": 4,
   "id": "2bb6d803",
   "metadata": {},
   "outputs": [
    {
     "name": "stdout",
     "output_type": "stream",
     "text": [
      "a    1\n",
      "b    2\n",
      "c    3\n",
      "dtype: int64\n"
     ]
    }
   ],
   "source": [
    "import pandas as pd\n",
    "s=pd.Series([1,2,3,4,5],index=['a','b','c','d','e'])\n",
    "print(s[:3])"
   ]
  },
  {
   "cell_type": "code",
   "execution_count": 9,
   "id": "38bd87de",
   "metadata": {},
   "outputs": [
    {
     "name": "stdout",
     "output_type": "stream",
     "text": [
      "c    3\n",
      "d    4\n",
      "e    5\n",
      "dtype: int64\n",
      "d    4\n",
      "e    5\n",
      "dtype: int64\n",
      "c    3\n",
      "e    5\n",
      "dtype: int64\n"
     ]
    }
   ],
   "source": [
    "import pandas as pd\n",
    "s=pd.Series([1,2,3,4,5],index=['a','b','c','d','e'])\n",
    "print(s[-3:])\n",
    "print(s[3:])\n",
    "print(s[2:5:2])"
   ]
  },
  {
   "cell_type": "code",
   "execution_count": 14,
   "id": "a49113a6",
   "metadata": {},
   "outputs": [
    {
     "name": "stdout",
     "output_type": "stream",
     "text": [
      "1 2\n",
      "3\n"
     ]
    }
   ],
   "source": [
    "import pandas as pd\n",
    "s=pd.Series([1,2,3,4,5],index=['a','b','c','d','e'])\n",
    "print(s['a'],s['b'])\n",
    "ans=(s['a']*s['c'])\n",
    "print(ans)\n",
    "\n"
   ]
  },
  {
   "cell_type": "markdown",
   "id": "fa2ad6c8",
   "metadata": {},
   "source": [
    "<h1>DATA FRAME<h1>"
   ]
  },
  {
   "cell_type": "code",
   "execution_count": 17,
   "id": "0479c6b7",
   "metadata": {},
   "outputs": [
    {
     "name": "stdout",
     "output_type": "stream",
     "text": [
      "     Name  Age\n",
      "0  Pratik   20\n",
      "1   Ritik   11\n",
      "2  Ritvik   10\n",
      "3   Dhruv    8\n"
     ]
    }
   ],
   "source": [
    "import pandas as pd\n",
    "data=[[\"Pratik\",20],[\"Ritik\",11],[\"Ritvik\",10],[\"Dhruv\",8]]\n",
    "df=pd.DataFrame(data,columns=['Name','Age'])\n",
    "print(df)"
   ]
  },
  {
   "cell_type": "code",
   "execution_count": 19,
   "id": "87af67ef",
   "metadata": {},
   "outputs": [
    {
     "name": "stdout",
     "output_type": "stream",
     "text": [
      "        0     1\n",
      "0  Pratik  20.0\n",
      "1   Ritik  11.0\n",
      "2  Ritvik  10.0\n",
      "3   Dhruv   8.0\n"
     ]
    },
    {
     "name": "stderr",
     "output_type": "stream",
     "text": [
      "C:\\Users\\prati\\AppData\\Local\\Temp\\ipykernel_17140\\1952370857.py:3: FutureWarning: Could not cast to float64, falling back to object. This behavior is deprecated. In a future version, when a dtype is passed to 'DataFrame', either all columns will be cast to that dtype, or a TypeError will be raised.\n",
      "  df=pd.DataFrame(data,dtype=float)\n"
     ]
    }
   ],
   "source": [
    "import pandas as pd\n",
    "data=[[\"Pratik\",20],[\"Ritik\",11],[\"Ritvik\",10],[\"Dhruv\",8]]\n",
    "df=pd.DataFrame(data,dtype=float)\n",
    "print(df)"
   ]
  },
  {
   "cell_type": "code",
   "execution_count": 22,
   "id": "5980938e",
   "metadata": {},
   "outputs": [
    {
     "name": "stdout",
     "output_type": "stream",
     "text": [
      "    Name Age\n",
      "0    Tom  10\n",
      "1  Jerry   8\n",
      "2    Bob  10\n"
     ]
    }
   ],
   "source": [
    "import pandas as pd\n",
    "data={'Name':['Tom','Jerry','Bob'],'Age':['10','8','10']}\n",
    "df=pd.DataFrame(data)\n",
    "print(df)"
   ]
  },
  {
   "cell_type": "markdown",
   "id": "63bf352f",
   "metadata": {},
   "source": [
    "<h1>Create A DataFrame From List and Dicts</h1>"
   ]
  },
  {
   "cell_type": "code",
   "execution_count": 24,
   "id": "252c3d7c",
   "metadata": {},
   "outputs": [
    {
     "name": "stdout",
     "output_type": "stream",
     "text": [
      "[{'a': 10, 'b': 20}, {'a': 2, 'b': 3, 'c': 6}]\n",
      "    a   b    c\n",
      "0  10  20  NaN\n",
      "1   2   3  6.0\n"
     ]
    }
   ],
   "source": [
    "import pandas as pd\n",
    "data=[{'a':10,'b':20},{'a':2,'b':3,'c':6}]\n",
    "df=pd.DataFrame(data)\n",
    "print(df)"
   ]
  },
  {
   "cell_type": "code",
   "execution_count": 30,
   "id": "344f60d7",
   "metadata": {},
   "outputs": [
    {
     "name": "stdout",
     "output_type": "stream",
     "text": [
      "   one  two\n",
      "a  1.0    1\n",
      "b  2.0    2\n",
      "c  3.0    3\n",
      "d  NaN    4\n"
     ]
    }
   ],
   "source": [
    "import pandas as pd\n",
    "data={'one':pd.Series([1,2,3],index=['a','b','c']),\n",
    "     'two':pd.Series([1,2,3,4],index=['a','b','c','d'])}\n",
    "df=pd.DataFrame(data)\n",
    "print(df)"
   ]
  },
  {
   "cell_type": "code",
   "execution_count": 31,
   "id": "8376a495",
   "metadata": {},
   "outputs": [
    {
     "name": "stdout",
     "output_type": "stream",
     "text": [
      "a    1.0\n",
      "b    2.0\n",
      "c    3.0\n",
      "d    NaN\n",
      "Name: one, dtype: float64\n"
     ]
    }
   ],
   "source": [
    "import pandas as pd\n",
    "data={'one':pd.Series([1,2,3],index=['a','b','c']),\n",
    "     'two':pd.Series([1,2,3,4],index=['a','b','c','d'])}\n",
    "df=pd.DataFrame(data)\n",
    "print(df['one'])"
   ]
  },
  {
   "cell_type": "code",
   "execution_count": 35,
   "id": "099d4552",
   "metadata": {},
   "outputs": [
    {
     "name": "stdout",
     "output_type": "stream",
     "text": [
      "   one  two\n",
      "a  1.0    1\n",
      "b  2.0    2\n",
      "c  3.0    3\n",
      "d  NaN    4\n",
      "-----------------------x-------------------------\n",
      "adding new column\n",
      "   one  two  three\n",
      "a  1.0    1   10.0\n",
      "b  2.0    2   20.0\n",
      "c  3.0    3   30.0\n",
      "d  NaN    4    NaN\n",
      "-----------------------x-------------------------\n",
      "addition of columns\n",
      "   one  two  three  four\n",
      "a  1.0    1   10.0  11.0\n",
      "b  2.0    2   20.0  22.0\n",
      "c  3.0    3   30.0  33.0\n",
      "d  NaN    4    NaN   NaN\n"
     ]
    }
   ],
   "source": [
    "import pandas as pd\n",
    "data={'one':pd.Series([1,2,3],index=['a','b','c']),\n",
    "     'two':pd.Series([1,2,3,4],index=['a','b','c','d'])}\n",
    "df=pd.DataFrame(data)\n",
    "print(df)\n",
    "print(\"-----------------------x-------------------------\")\n",
    "print(\"adding new column\")\n",
    "df['three']=pd.Series([10,20,30],index=['a','b','c'])\n",
    "print(df)\n",
    "print(\"-----------------------x-------------------------\")\n",
    "print('addition of columns')\n",
    "df['four']=df['one']+df['three']\n",
    "print(df)"
   ]
  },
  {
   "cell_type": "code",
   "execution_count": 38,
   "id": "6c7141c9",
   "metadata": {},
   "outputs": [
    {
     "name": "stdout",
     "output_type": "stream",
     "text": [
      "   one  two\n",
      "a  1.0    1\n",
      "b  2.0    2\n",
      "c  3.0    3\n",
      "d  NaN    4\n",
      "-----------------------x-------------------------\n",
      "adding new column\n",
      "   one  two  three\n",
      "a  1.0    1   10.0\n",
      "b  2.0    2   20.0\n",
      "c  3.0    3   30.0\n",
      "d  NaN    4    NaN\n",
      "-----------------------x-------------------------\n",
      "deleting of columns\n",
      "   one  two\n",
      "a  1.0    1\n",
      "b  2.0    2\n",
      "c  3.0    3\n",
      "d  NaN    4\n"
     ]
    }
   ],
   "source": [
    "import pandas as pd\n",
    "data={'one':pd.Series([1,2,3],index=['a','b','c']),\n",
    "     'two':pd.Series([1,2,3,4],index=['a','b','c','d'])}\n",
    "df=pd.DataFrame(data)\n",
    "print(df)\n",
    "print(\"-----------------------x-------------------------\")\n",
    "print(\"adding new column\")\n",
    "df['three']=pd.Series([10,20,30],index=['a','b','c'])\n",
    "print(df)\n",
    "print(\"-----------------------x-------------------------\")\n",
    "print('deleting of columns')\n",
    "del df['three']\n",
    "print(df)"
   ]
  },
  {
   "cell_type": "code",
   "execution_count": 39,
   "id": "1c8a481e",
   "metadata": {},
   "outputs": [
    {
     "name": "stdout",
     "output_type": "stream",
     "text": [
      "   a  b\n",
      "0  1  2\n",
      "1  3  4\n",
      "0  1  2\n",
      "1  3  4\n",
      "   a  b\n",
      "1  3  4\n",
      "1  3  4\n"
     ]
    },
    {
     "name": "stderr",
     "output_type": "stream",
     "text": [
      "C:\\Users\\prati\\AppData\\Local\\Temp\\ipykernel_17140\\3562446906.py:4: FutureWarning: The frame.append method is deprecated and will be removed from pandas in a future version. Use pandas.concat instead.\n",
      "  df=df.append(df2)\n"
     ]
    }
   ],
   "source": [
    "import pandas as pd\n",
    "df=pd.DataFrame([[1,2],[3,4]],columns=['a','b'])\n",
    "df2=pd.DataFrame([[1,2],[3,4]],columns=['a','b'])\n",
    "df=df.append(df2)\n",
    "print(df)\n",
    "df=df.drop(0)\n",
    "print(df)"
   ]
  },
  {
   "cell_type": "code",
   "execution_count": null,
   "id": "46c0a666",
   "metadata": {},
   "outputs": [],
   "source": []
  }
 ],
 "metadata": {
  "kernelspec": {
   "display_name": "Python 3 (ipykernel)",
   "language": "python",
   "name": "python3"
  },
  "language_info": {
   "codemirror_mode": {
    "name": "ipython",
    "version": 3
   },
   "file_extension": ".py",
   "mimetype": "text/x-python",
   "name": "python",
   "nbconvert_exporter": "python",
   "pygments_lexer": "ipython3",
   "version": "3.9.13"
  }
 },
 "nbformat": 4,
 "nbformat_minor": 5
}
